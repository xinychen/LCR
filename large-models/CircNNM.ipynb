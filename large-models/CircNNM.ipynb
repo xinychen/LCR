{
 "cells": [
  {
   "cell_type": "markdown",
   "metadata": {},
   "source": [
    "# Circulant Matrix Nuclear Norm Minimization (CircNNM)\n"
   ]
  },
  {
   "cell_type": "code",
   "execution_count": null,
   "metadata": {},
   "outputs": [],
   "source": [
    "import numpy as np\n",
    "\n",
    "def compute_mape(var, var_hat):\n",
    "    return np.sum(np.abs(var - var_hat) / var) / var.shape[0]\n",
    "\n",
    "def compute_rmse(var, var_hat):\n",
    "    return np.sqrt(np.sum((var - var_hat) ** 2) / var.shape[0])\n",
    "\n",
    "def prox(z, w, lmbda):\n",
    "    T = z.shape[0]\n",
    "    temp1 = np.fft.fft(lmbda * z - w) / lmbda\n",
    "    temp2 = 1 - T / (lmbda * np.abs(temp1))\n",
    "    temp2[temp2 <= 0] = 0\n",
    "    return np.fft.ifft(temp1 * temp2).real\n",
    "\n",
    "def update_z(y_train, pos_train, x, w, lmbda, eta):\n",
    "    z = x + w / lmbda\n",
    "    z[pos_train] = (lmbda / (lmbda + eta) * z[pos_train] \n",
    "                    + eta / (lmbda + eta) * y_train)\n",
    "    return z\n",
    "\n",
    "def update_w(x, z, w, lmbda):\n",
    "    return w + lmbda * (x - z)\n",
    "\n",
    "def CircNNM(y_true, y, lmbda, maxiter = 50):\n",
    "    eta = 100 * lmbda\n",
    "    T = y.shape\n",
    "    pos_train = np.where(y != 0)\n",
    "    y_train = y[pos_train]\n",
    "    pos_test = np.where((y_true != 0) & (y == 0))\n",
    "    y_test = y_true[pos_test]\n",
    "    z = y.copy()\n",
    "    w = y.copy()\n",
    "    del y_true, y\n",
    "    show_iter = 20\n",
    "    for it in range(maxiter):\n",
    "        x = prox(z, w, lmbda)\n",
    "        z = update_z(y_train, pos_train, x, w, lmbda, eta)\n",
    "        w = update_w(x, z, w, lmbda)\n",
    "        if (it + 1) % show_iter == 0:\n",
    "            print(it + 1)\n",
    "            print(compute_mape(y_test, x[pos_test]))\n",
    "            print(compute_rmse(y_test, x[pos_test]))\n",
    "            print()\n",
    "    return x"
   ]
  },
  {
   "cell_type": "markdown",
   "metadata": {},
   "source": [
    "## Large Time Series Imputation\n",
    "\n",
    "PeMS dataset is available at https://github.com/xinychen/transdim/tree/master/datasets/California-data-set.\n",
    "\n",
    "Hyperparameter:\n",
    "\n",
    "- $\\lambda=10^{-5}NT$.\n"
   ]
  },
  {
   "cell_type": "code",
   "execution_count": null,
   "metadata": {},
   "outputs": [],
   "source": [
    "import numpy as np\n",
    "np.random.seed(1000)\n",
    "\n",
    "dense_mat = np.load('pems-w1.npz')['arr_0']\n",
    "for t in range(2, 5):\n",
    "    dense_mat = np.append(dense_mat, np.load('pems-w{}.npz'.format(t))['arr_0'],\n",
    "                          axis = 1)\n",
    "dim1, dim2 = dense_mat.shape\n",
    "\n",
    "missing_rate = 0.9\n",
    "sparse_mat = dense_mat * np.round(np.random.rand(dim1, dim2) + 0.5 - missing_rate)\n",
    "# np.savez_compressed('dense_mat.npz', dense_mat)\n",
    "# np.savez_compressed('sparse_mat.npz', sparse_mat)\n",
    "\n",
    "# import cupy as np\n",
    "\n",
    "# dense_mat = np.load('dense_mat.npz')['arr_0']\n",
    "# sparse_mat = np.load('sparse_mat.npz')['arr_0']\n",
    "\n",
    "dense_y = dense_mat.reshape(-1, order = 'C')\n",
    "sparse_y = sparse_mat.reshape(-1, order = 'C')\n",
    "del dense_mat, sparse_mat\n",
    "\n",
    "import time\n",
    "start = time.time()\n",
    "T = sparse_y.shape[0]\n",
    "lmbda = 1e-5 * T\n",
    "maxiter = 100\n",
    "x = CircNNM(dense_y, sparse_y, lmbda, maxiter)\n",
    "end = time.time()\n",
    "print('Running time: %d seconds.'%(end - start))"
   ]
  },
  {
   "cell_type": "markdown",
   "metadata": {},
   "source": [
    "### License\n",
    "\n",
    "<div class=\"alert alert-block alert-danger\">\n",
    "<b>This work is released under the MIT license.</b>\n",
    "</div>"
   ]
  }
 ],
 "metadata": {
  "kernelspec": {
   "display_name": "Python 3",
   "language": "python",
   "name": "python3"
  },
  "language_info": {
   "codemirror_mode": {
    "name": "ipython",
    "version": 3
   },
   "file_extension": ".py",
   "mimetype": "text/x-python",
   "name": "python",
   "nbconvert_exporter": "python",
   "pygments_lexer": "ipython3",
   "version": "3.8.3"
  }
 },
 "nbformat": 4,
 "nbformat_minor": 4
}
